{
 "cells": [
  {
   "cell_type": "code",
   "execution_count": 2,
   "metadata": {},
   "outputs": [],
   "source": [
    "import pandas as pd\n",
    "import numpy as np\n",
    "import sklearn as sk\n"
   ]
  },
  {
   "cell_type": "code",
   "execution_count": 12,
   "metadata": {},
   "outputs": [
    {
     "name": "stdout",
     "output_type": "stream",
     "text": [
      "   Day  Hour  Minute  DHI  DNI   WS     RH   T  TARGET\n",
      "0    0     0       0    0    0  1.5  69.08 -12     0.0\n",
      "1    0     0      30    0    0  1.5  69.06 -12     0.0\n",
      "2    0     1       0    0    0  1.6  71.78 -12     0.0\n",
      "3    0     1      30    0    0  1.6  71.75 -12     0.0\n",
      "4    0     2       0    0    0  1.6  75.20 -12     0.0\n"
     ]
    }
   ],
   "source": [
    "df=pd.read_csv(r'C:\\Users\\ghfhf\\Desktop\\AIStudy\\SunPower_Prediction_20201220\\data\\train\\train.csv')\n",
    "print(df.head())"
   ]
  },
  {
   "cell_type": "code",
   "execution_count": 13,
   "metadata": {},
   "outputs": [
    {
     "data": {
      "text/plain": [
       "Day       0.0\n",
       "Hour      0.0\n",
       "Minute    0.0\n",
       "DHI       0.0\n",
       "DNI       0.0\n",
       "WS        0.0\n",
       "RH        0.0\n",
       "T         0.0\n",
       "TARGET    0.0\n",
       "dtype: float64"
      ]
     },
     "execution_count": 13,
     "metadata": {},
     "output_type": "execute_result"
    }
   ],
   "source": [
    "df.shape\n",
    "df.columns\n",
    "100*df.isna().sum()/len(df) #누락데이터 비율"
   ]
  },
  {
   "cell_type": "code",
   "execution_count": 15,
   "metadata": {},
   "outputs": [
    {
     "data": {
      "text/plain": [
       "<matplotlib.axes._subplots.AxesSubplot at 0x1f1ee2159c8>"
      ]
     },
     "execution_count": 15,
     "metadata": {},
     "output_type": "execute_result"
    },
    {
     "data": {
      "image/png": "[encoded data removed]",
      "text/plain": [
       "<Figure size 432x288 with 2 Axes>"
      ]
     },
     "metadata": {
      "needs_background": "light"
     },
     "output_type": "display_data"
    }
   ],
   "source": [
    "#Correlation\n",
    "corr = df.corr()\n",
    "\n",
    "import seaborn as sns\n",
    "from matplotlib import pyplot as plt\n",
    "\n",
    "corr80 = corr[abs(corr)> 0.8]\n",
    "sns.heatmap(corr80)\n"
   ]
  }
 ],
 "metadata": {
  "kernelspec": {
   "display_name": "Python 3",
   "language": "python",
   "name": "python3"
  },
  "language_info": {
   "codemirror_mode": {
    "name": "ipython",
    "version": 3
   },
   "file_extension": ".py",
   "mimetype": "text/x-python",
   "name": "python",
   "nbconvert_exporter": "python",
   "pygments_lexer": "ipython3",
   "version": "3.7.6"
  }
 },
 "nbformat": 4,
 "nbformat_minor": 4
}
