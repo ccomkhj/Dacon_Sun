{
  "nbformat": 4,
  "nbformat_minor": 0,
  "metadata": {
    "colab": {
      "name": "Quantile Regression.ipynb",
      "provenance": [],
      "authorship_tag": "ABX9TyOFJnTo12g1pPP67EozhLzm",
      "include_colab_link": true
    },
    "kernelspec": {
      "name": "python3",
      "display_name": "Python 3"
    },
    "accelerator": "GPU"
  },
  "cells": [
    {
      "cell_type": "markdown",
      "metadata": {
        "id": "view-in-github",
        "colab_type": "text"
      },
      "source": [
        "<a href=\"https://colab.research.google.com/github/ccomkhj/Dacon_Sun/blob/master/Quantile_Regression.ipynb\" target=\"_parent\"><img src=\"https://colab.research.google.com/assets/colab-badge.svg\" alt=\"Open In Colab\"/></a>"
      ]
    },
    {
      "cell_type": "code",
      "metadata": {
        "colab": {
          "base_uri": "https://localhost:8080/"
        },
        "id": "AbPBiLnwFeqc",
        "outputId": "607a9507-5c9c-453e-e9a4-5656537d5605"
      },
      "source": [
        "from google.colab import drive\r\n",
        "drive.mount('/content/drive')"
      ],
      "execution_count": 5,
      "outputs": [
        {
          "output_type": "stream",
          "text": [
            "Mounted at /content/drive\n"
          ],
          "name": "stdout"
        }
      ]
    },
    {
      "cell_type": "code",
      "metadata": {
        "id": "WDibaK3GFsfx"
      },
      "source": [
        "import pandas as pd\r\n",
        "import numpy as np\r\n",
        "import os\r\n",
        "import glob\r\n",
        "import random\r\n",
        "import tensorflow as tf\r\n",
        "import matplotlib as mpl\r\n",
        "import matplotlib.pyplot as plt\r\n",
        "import tensorflow.keras.backend as K\r\n",
        "import tensorflow.keras.layers as L\r\n",
        "import tensorflow.keras.models as M"
      ],
      "execution_count": 6,
      "outputs": []
    },
    {
      "cell_type": "code",
      "metadata": {
        "id": "xn61Ks1hFtxB"
      },
      "source": [
        "train = pd.read_csv('/content/drive/MyDrive/data_solar/train/train.csv')\r\n",
        "sub = pd.read_csv('/content/drive/MyDrive/data_solar/sample_submission.csv')"
      ],
      "execution_count": 7,
      "outputs": []
    },
    {
      "cell_type": "code",
      "metadata": {
        "id": "GWQFYcT0Gt4Z"
      },
      "source": [
        "def preprocess_data(data):\r\n",
        "\ttemp = data.copy()\r\n",
        "\treturn temp.iloc[-48:, :]\r\n",
        "\r\n",
        "df_test = []"
      ],
      "execution_count": 8,
      "outputs": []
    },
    {
      "cell_type": "code",
      "metadata": {
        "colab": {
          "base_uri": "https://localhost:8080/"
        },
        "id": "GK2XUvqPGu7H",
        "outputId": "3a39a204-b008-4d4e-8259-11d90d73d9a7"
      },
      "source": [
        "for i in range(81):\r\n",
        "  file_path = '/content/drive/MyDrive/data_solar/test/' + str(i) + '.csv'\r\n",
        "  temp = pd.read_csv(file_path)\r\n",
        "  temp = preprocess_data(temp)\r\n",
        "  df_test.append(temp)\r\n",
        "\r\n",
        "X_test = pd.concat(df_test)\r\n",
        "#Attach padding dummy time series\r\n",
        "X_test = X_test.append(X_test[-96:])\r\n",
        "X_test.shape"
      ],
      "execution_count": 9,
      "outputs": [
        {
          "output_type": "execute_result",
          "data": {
            "text/plain": [
              "(3984, 9)"
            ]
          },
          "metadata": {
            "tags": []
          },
          "execution_count": 9
        }
      ]
    },
    {
      "cell_type": "code",
      "metadata": {
        "id": "k4Vf5yOFGwHL"
      },
      "source": [
        "##=======================Add Td, T-Td and GHI features\r\n",
        "def Add_features(data):\r\n",
        "  c = 243.12\r\n",
        "  b = 17.62\r\n",
        "  gamma = (b * (data['T']) / (c + (data['T']))) + np.log(data['RH'] / 100)\r\n",
        "  dp = ( c * gamma) / (b - gamma)\r\n",
        "  data.insert(1,'Td',dp)\r\n",
        "  data.insert(1,'T-Td',data['T']-data['Td'])\r\n",
        "  data.insert(1,'GHI',data['DNI']+data['DHI'])\r\n",
        "  return data"
      ],
      "execution_count": 10,
      "outputs": []
    },
    {
      "cell_type": "code",
      "metadata": {
        "id": "igGFWdOzGxz-"
      },
      "source": [
        "train = Add_features(train)\r\n",
        "X_test = Add_features(X_test)\r\n",
        "\r\n",
        "df_train = train.drop(['Day','Minute'],axis=1)\r\n",
        "df_test  = X_test.drop(['Day','Minute'],axis=1)\r\n",
        "\r\n",
        "column_indices = {name: i for i, name in enumerate(df_train.columns)}\r\n",
        "\r\n",
        "#Train and Validation split\r\n",
        "n = len(train)\r\n",
        "train_df = df_train[0:int(n*0.8)]\r\n",
        "val_df   = df_train[int(n*0.8):]\r\n",
        "test_df = df_test\r\n",
        "\r\n",
        "# Normalization\r\n",
        "num_features = train_df.shape[1]\r\n",
        "\r\n",
        "train_mean = train_df.mean()\r\n",
        "train_std  = train_df.std()\r\n",
        "\r\n",
        "train_df = (train_df - train_mean) / train_std\r\n",
        "val_df   =  (val_df - train_mean) / train_std\r\n",
        "test_df  = (test_df - train_mean) / train_std"
      ],
      "execution_count": 11,
      "outputs": []
    },
    {
      "cell_type": "code",
      "metadata": {
        "id": "_gnNaAIUGzbo"
      },
      "source": [
        "class WindowGenerator():\r\n",
        "  def __init__(self, input_width, label_width, shift,\r\n",
        "    train_df=train_df, val_df=val_df, test_df=test_df,\r\n",
        "    label_columns=None):\r\n",
        "    # Store the raw data.\r\n",
        "    self.train_df = train_df\r\n",
        "    self.val_df = val_df\r\n",
        "    self.test_df = test_df\r\n",
        "    #Work out the label column indices.\r\n",
        "    self.label_columns = label_columns\r\n",
        "    if label_columns is not None:\r\n",
        "      self.label_columns_indices = {name: i for i, name in enumerate(label_columns)}\r\n",
        "    self.column_indices = {name: i for i, name in enumerate(train_df.columns)}\r\n",
        "    #Work out the window parameters.\r\n",
        "    self.input_width = input_width\r\n",
        "    self.label_width = label_width\r\n",
        "    self.shift = shift\r\n",
        "    self.total_window_size = input_width + shift\r\n",
        "    self.input_slice = slice(0, input_width)\r\n",
        "    self.input_indices = np.arange(self.total_window_size)[self.input_slice]\r\n",
        "    self.label_start = self.total_window_size - self.label_width\r\n",
        "    self.labels_slice = slice(self.label_start, None)\r\n",
        "    self.label_indices = np.arange(self.total_window_size)[self.labels_slice]\r\n",
        "  def __repr__(self):\r\n",
        "    return '\\n'.join([\r\n",
        "      f'Total window size: {self.total_window_size}',\r\n",
        "      f'Input indices: {self.input_indices}',\r\n",
        "      f'Label indices: {self.label_indices}',\r\n",
        "      f'Label column name(s): {self.label_columns}'])"
      ],
      "execution_count": 12,
      "outputs": []
    },
    {
      "cell_type": "code",
      "metadata": {
        "id": "sqDueWB_G70Y"
      },
      "source": [
        "def split_window(self, features):\r\n",
        "  inputs = features[:, self.input_slice, :]\r\n",
        "  labels = features[:, self.labels_slice, :]\r\n",
        "  if self.label_columns is not None:\r\n",
        "    labels = tf.stack([labels[:, :, self.column_indices[name]] for name in self.label_columns], axis=-1)\r\n",
        "  # Slicing doesn't preserve static shape information, so set the shapes\r\n",
        "  # Manually. This way the tf.data.Datasets' are easier to inspect.\r\n",
        "  inputs.set_shape([None, self.input_width, None])\r\n",
        "  labels.set_shape([None, self.label_width, None])\r\n",
        "  return inputs, labels\r\n",
        "\r\n",
        "WindowGenerator.split_window = split_window"
      ],
      "execution_count": 13,
      "outputs": []
    },
    {
      "cell_type": "code",
      "metadata": {
        "id": "yl6-255nG9ak"
      },
      "source": [
        "def make_dataset(self, data,is_train=True):\r\n",
        "  data = np.array(data, dtype=np.float32)\r\n",
        "  if is_train==True:\r\n",
        "\t  ds = tf.keras.preprocessing.timeseries_dataset_from_array(\r\n",
        "                data=data, targets=None, sequence_length=self.total_window_size, sequence_stride=1, shuffle=True, batch_size=256,)\r\n",
        "  else:\r\n",
        "    ds = tf.keras.preprocessing.timeseries_dataset_from_array(\r\n",
        "                data=data, targets=None, sequence_length=self.total_window_size, sequence_stride=1, shuffle=False, batch_size=256,)\r\n",
        "  ds = ds.map(self.split_window)\r\n",
        "  return ds\r\n",
        "\r\n",
        "WindowGenerator.make_dataset = make_dataset"
      ],
      "execution_count": 14,
      "outputs": []
    },
    {
      "cell_type": "code",
      "metadata": {
        "id": "753cS89fG-cN"
      },
      "source": [
        "@property\r\n",
        "def train(self):\r\n",
        "  return self.make_dataset(self.train_df,is_train=True)\r\n",
        "\r\n",
        "@property\r\n",
        "def val(self):\r\n",
        "  return self.make_dataset(self.val_df,is_train=True)\r\n",
        "\r\n",
        "@property\r\n",
        "def test(self):\r\n",
        "  return self.make_dataset(self.test_df,is_train=False)\r\n",
        "\r\n",
        "\r\n",
        "@property\r\n",
        "def example(self):\r\n",
        "  \"\"\"Get and cache an example batch of `inputs, labels` for plotting.\"\"\"\r\n",
        "  result = getattr(self,'_example', None)\r\n",
        "  if result is None:\r\n",
        "    #No example batch was found, so get one from the `.train` dataset\r\n",
        "    result = next(iter(self.train))\r\n",
        "    # And cache it for next time\r\n",
        "    self._example = result\r\n",
        "  return result\r\n",
        "\r\n",
        "WindowGenerator.train = train\r\n",
        "WindowGenerator.val = val\r\n",
        "WindowGenerator.test = test\r\n",
        "WindowGenerator.example = example"
      ],
      "execution_count": 15,
      "outputs": []
    },
    {
      "cell_type": "code",
      "metadata": {
        "id": "Wb5r36hdHA4c"
      },
      "source": [
        "def plot(self, model=None, plot_col='TARGET', max_subplots=3):\r\n",
        "  inputs, labels = self.example\r\n",
        "  plt.figure(figsize=(12, 8))\r\n",
        "  plot_col_index = self.column_indices[plot_col]\r\n",
        "  max_n = min(max_subplots, len(inputs))\r\n",
        "  for n in range(max_n):\r\n",
        "    plt.subplot(3, 1, n+1)\r\n",
        "    plt.ylabel(f'{plot_col} [normed]')\r\n",
        "    plt.plot(self.input_indices, inputs[n, :, plot_col_index],\r\n",
        "                label='Inputs', marker='.',zorder=-10)\r\n",
        "    if self.label_columns:\r\n",
        "      label_col_index = self.label_columns_indices.get(plot_col, None)\r\n",
        "    else:\r\n",
        "      label_col_index = plot_col_index\r\n",
        "    if label_col_index is None:\r\n",
        "      continue\r\n",
        "    plt.scatter(self.label_indices, labels[n, :, label_col_index],\r\n",
        "              edgecolors='k', label='Labels', c='#2ca02c', s=64)\r\n",
        "    if model is not None:\r\n",
        "      predictions = model(inputs)\r\n",
        "      plt.scatter(self.label_indices, predictions[n, :, label_col_index], marker='X', edgecolors='k', label='Predictions',  c='#ff7f0e', s=64)\r\n",
        "  if n == 0:\r\n",
        "    plt.legend()\r\n",
        "  plt.xlabel('Time [30m]')\r\n",
        "\r\n",
        "WindowGenerator.plot = plot"
      ],
      "execution_count": 16,
      "outputs": []
    },
    {
      "cell_type": "code",
      "metadata": {
        "id": "MtNdYPQSHB_r"
      },
      "source": [
        "IN_STEPS = 7*24*2\r\n",
        "OUT_STEPS = 2*24*2\r\n",
        "#Set the data-set 24 hours input -> 48 hours output\r\n",
        "w1 = WindowGenerator(input_width=IN_STEPS, label_width=OUT_STEPS, shift = OUT_STEPS)"
      ],
      "execution_count": 17,
      "outputs": []
    },
    {
      "cell_type": "code",
      "metadata": {
        "colab": {
          "base_uri": "https://localhost:8080/",
          "height": 497
        },
        "id": "_VbzFSnIHMqS",
        "outputId": "dcd4a97c-142b-48da-9b3e-069833283a39"
      },
      "source": [
        "w1.plot()"
      ],
      "execution_count": 18,
      "outputs": [
        {
          "output_type": "display_data",
          "data": {
            "image/png": "[encoded data removed]",
            "text/plain": [
              "<Figure size 864x576 with 3 Axes>"
            ]
          },
          "metadata": {
            "tags": [],
            "needs_background": "light"
          }
        }
      ]
    },
    {
      "cell_type": "code",
      "metadata": {
        "colab": {
          "base_uri": "https://localhost:8080/"
        },
        "id": "akd-ZK0yHNee",
        "outputId": "08c7e7ff-1127-43ae-a57f-1f6987824382"
      },
      "source": [
        "w1.train.element_spec"
      ],
      "execution_count": 19,
      "outputs": [
        {
          "output_type": "execute_result",
          "data": {
            "text/plain": [
              "(TensorSpec(shape=(None, 336, 10), dtype=tf.float32, name=None),\n",
              " TensorSpec(shape=(None, 96, 10), dtype=tf.float32, name=None))"
            ]
          },
          "metadata": {
            "tags": []
          },
          "execution_count": 19
        }
      ]
    },
    {
      "cell_type": "code",
      "metadata": {
        "colab": {
          "base_uri": "https://localhost:8080/"
        },
        "id": "lGLH2bgPHQAy",
        "outputId": "7e5dd9e9-d210-4f87-f841-e6063270e8f5"
      },
      "source": [
        "for example_inputs, example_labels in w1.train.take(1):\r\n",
        "  print(f'Inputs shape (batch, time, features): {example_inputs.shape}')\r\n",
        "  print(f'Labels shape (batch, time, features): {example_labels.shape}')"
      ],
      "execution_count": 20,
      "outputs": [
        {
          "output_type": "stream",
          "text": [
            "Inputs shape (batch, time, features): (256, 336, 10)\n",
            "Labels shape (batch, time, features): (256, 96, 10)\n"
          ],
          "name": "stdout"
        }
      ]
    },
    {
      "cell_type": "code",
      "metadata": {
        "id": "8E-mSDWxHRvf"
      },
      "source": [
        "################# Quantile loss definition\r\n",
        "def quantile_loss(q, y_true, y_pred):\r\n",
        "\terr = (y_true - y_pred)\r\n",
        "\treturn K.mean(K.maximum(q*err, (q-1)*err), axis=-1)\r\n",
        "\r\n",
        "quantiles = [0.1, 0.2, 0.3, 0.4, 0.5, 0.6, 0.7, 0.8, 0.9]\r\n",
        "#########################\r\n",
        "OUT_STEPS = 96"
      ],
      "execution_count": 21,
      "outputs": []
    },
    {
      "cell_type": "code",
      "metadata": {
        "id": "YSnCA8IEHTGj"
      },
      "source": [
        "early_stopping = tf.keras.callbacks.EarlyStopping(monitor='val_loss', patience=5, mode='min')"
      ],
      "execution_count": 22,
      "outputs": []
    },
    {
      "cell_type": "code",
      "metadata": {
        "id": "sHyhbFxwHU6r"
      },
      "source": [
        "########## quantile plot definition\r\n",
        "\r\n",
        "def quantile_plot(self, model=None, plot_col='TARGET', max_subplots=3, quantile=None):\r\n",
        "  inputs, labels = self.example\r\n",
        "  if quantile == 0.1:\r\n",
        "    plt.figure(figsize=(12, 8))\r\n",
        "  plot_col_index = self.column_indices[plot_col]\r\n",
        "  max_n = min(max_subplots, len(inputs))\r\n",
        "  for n in range(max_n):\r\n",
        "    plt.subplot(3, 1, n+1)\r\n",
        "    plt.ylabel(f'{plot_col} [normed]')\r\n",
        "    if quantile == 0.1:\r\n",
        "      plt.plot(self.input_indices, inputs[n, :, plot_col_index],\r\n",
        "              label='Inputs', marker='.',zorder=-10)\r\n",
        "    if self.label_columns:\r\n",
        "      label_col_index = self.label_columns_indices.get(plot_col, None)\r\n",
        "    else:\r\n",
        "      label_col_index = plot_col_index\r\n",
        "    if label_col_index is None:\r\n",
        "      continue\r\n",
        "    if quantile == 0.1:\r\n",
        "      plt.scatter(self.label_indices, labels[n, :, label_col_index],\r\n",
        "                edgecolors='k', label='Labels', c='#2ca02c', s=20)\r\n",
        "    if model is not None:\r\n",
        "      predictions = model(inputs)\r\n",
        "      plt.scatter(self.label_indices, predictions[n, :, label_col_index], marker='X', edgecolors='none', label=f'Predictions(q={quantile})', s=15)\r\n",
        "    if quantile == 0.9 and n==0:\r\n",
        "      plt.legend()\r\n",
        "  plt.xlabel('Time [30m]')\r\n",
        "\r\n",
        "WindowGenerator.quantile_plot = quantile_plot"
      ],
      "execution_count": 23,
      "outputs": []
    },
    {
      "cell_type": "code",
      "metadata": {
        "id": "tGodtGY3HWQF"
      },
      "source": [
        "def GRU():\r\n",
        "    model = tf.keras.Sequential([\r\n",
        "    tf.keras.layers.Dense(96),\r\n",
        "    tf.keras.layers.GRU(96, return_sequences=True, return_state=False),\r\n",
        "    tf.keras.layers.GRU(48), \r\n",
        "    tf.keras.layers.Dense(OUT_STEPS*num_features, kernel_initializer=tf.initializers.zeros),\r\n",
        "    tf.keras.layers.Reshape([OUT_STEPS, num_features])])\r\n",
        "    return model"
      ],
      "execution_count": 24,
      "outputs": []
    },
    {
      "cell_type": "code",
      "metadata": {
        "colab": {
          "base_uri": "https://localhost:8080/"
        },
        "id": "6J4AtwD_HXxA",
        "outputId": "12cbefd7-9f63-4e85-aacf-495f50934bb6"
      },
      "source": [
        "Dense_actual_pred = pd.DataFrame()\r\n",
        "Dense_val_score = pd.DataFrame()\r\n",
        "\r\n",
        "for q in quantiles:\r\n",
        "    qq = str(q)\r\n",
        "    print('START'+ qq +\"QUANTILE\")\r\n",
        "    model = GRU()\r\n",
        "    model.compile(loss = lambda y_true, y_pred: quantile_loss(q, y_true, y_pred), optimizer='adam', metrics=[lambda y, pred: quantile_loss(q, y, pred)])\r\n",
        "    history = model.fit(w1.train, validation_data=w1.val, epochs=20, callbacks=[early_stopping])\r\n",
        "    pred = model.predict(w1.test, verbose=0)\r\n",
        "    target_pred = pd.Series(pred[::48][:,:,9].reshape(7776)) #Save predicted value (striding=48 step, 9 = TARGET) \r\n",
        "    Dense_actual_pred = pd.concat([Dense_actual_pred,target_pred],axis=1)\r\n",
        "    Dense_val_score[f'{q}'] = model.evaluate(w1.val)\r\n",
        "    w1.quantile_plot(model, quantile=q)"
      ],
      "execution_count": null,
      "outputs": [
        {
          "output_type": "stream",
          "text": [
            "START0.1QUANTILE\n",
            "Epoch 1/20\n",
            "163/163 [==============================] - 227s 1s/step - loss: 0.2196 - <lambda>: 0.2196 - val_loss: 0.0924 - val_<lambda>: 0.0924\n",
            "Epoch 2/20\n",
            "163/163 [==============================] - 222s 1s/step - loss: 0.0853 - <lambda>: 0.0853 - val_loss: 0.0812 - val_<lambda>: 0.0812\n",
            "Epoch 3/20\n",
            " 71/163 [============>.................] - ETA: 2:01 - loss: 0.0779 - <lambda>: 0.0779"
          ],
          "name": "stdout"
        }
      ]
    },
    {
      "cell_type": "code",
      "metadata": {
        "id": "zKjACHMKHeix"
      },
      "source": [
        "Dense_actual_pred.columns = quantiles\r\n",
        "#Denormalizing TARGET values\r\n",
        "Dense_actual_pred_denorm = Dense_actual_pred*train_std['TARGET'] + train_mean['TARGET']\r\n",
        "#Replace Negative value to Zero\r\n",
        "Dense_actual_pred_nn = np.where(Dense_actual_pred_denorm<0, 0, Dense_actual_pred_denorm)\r\n",
        "\r\n",
        "sub.iloc[:,1:] = Dense_actual_pred_nn\r\n",
        "sub.to_csv(\"/content/drive/MyDrive/data_solar/submission/submission_210123_quantile_GRU.csv\",index=False)"
      ],
      "execution_count": null,
      "outputs": []
    }
  ]
}